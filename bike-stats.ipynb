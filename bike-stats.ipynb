{
 "cells": [
  {
   "cell_type": "markdown",
   "metadata": {},
   "source": [
    "# Data Analysis\n",
    "## Cycle Share\n",
    "### Raven Robertson\n",
    "### September 03, 2019"
   ]
  },
  {
   "cell_type": "code",
   "execution_count": 2,
   "metadata": {},
   "outputs": [],
   "source": [
    "import pandas as pd"
   ]
  },
  {
   "cell_type": "code",
   "execution_count": 3,
   "metadata": {},
   "outputs": [],
   "source": [
    "station_data = pd.read_csv('station.csv')"
   ]
  },
  {
   "cell_type": "code",
   "execution_count": 4,
   "metadata": {},
   "outputs": [],
   "source": [
    "weather_data = pd.read_csv('weather.csv')"
   ]
  },
  {
   "cell_type": "code",
   "execution_count": 5,
   "metadata": {},
   "outputs": [
    {
     "name": "stderr",
     "output_type": "stream",
     "text": [
      "b'Skipping line 50794: expected 12 fields, saw 20\\n'\n"
     ]
    },
    {
     "data": {
      "text/html": [
       "<div>\n",
       "<style scoped>\n",
       "    .dataframe tbody tr th:only-of-type {\n",
       "        vertical-align: middle;\n",
       "    }\n",
       "\n",
       "    .dataframe tbody tr th {\n",
       "        vertical-align: top;\n",
       "    }\n",
       "\n",
       "    .dataframe thead th {\n",
       "        text-align: right;\n",
       "    }\n",
       "</style>\n",
       "<table border=\"1\" class=\"dataframe\">\n",
       "  <thead>\n",
       "    <tr style=\"text-align: right;\">\n",
       "      <th></th>\n",
       "      <th>trip_id</th>\n",
       "      <th>starttime</th>\n",
       "      <th>stoptime</th>\n",
       "      <th>bikeid</th>\n",
       "      <th>tripduration</th>\n",
       "      <th>from_station_name</th>\n",
       "      <th>to_station_name</th>\n",
       "      <th>from_station_id</th>\n",
       "      <th>to_station_id</th>\n",
       "      <th>usertype</th>\n",
       "      <th>gender</th>\n",
       "      <th>birthyear</th>\n",
       "    </tr>\n",
       "  </thead>\n",
       "  <tbody>\n",
       "    <tr>\n",
       "      <td>0</td>\n",
       "      <td>431</td>\n",
       "      <td>10/13/2014 10:31</td>\n",
       "      <td>10/13/2014 10:48</td>\n",
       "      <td>SEA00298</td>\n",
       "      <td>985.935</td>\n",
       "      <td>2nd Ave &amp; Spring St</td>\n",
       "      <td>Occidental Park / Occidental Ave S &amp; S Washing...</td>\n",
       "      <td>CBD-06</td>\n",
       "      <td>PS-04</td>\n",
       "      <td>Member</td>\n",
       "      <td>Male</td>\n",
       "      <td>1960.0</td>\n",
       "    </tr>\n",
       "    <tr>\n",
       "      <td>1</td>\n",
       "      <td>432</td>\n",
       "      <td>10/13/2014 10:32</td>\n",
       "      <td>10/13/2014 10:48</td>\n",
       "      <td>SEA00195</td>\n",
       "      <td>926.375</td>\n",
       "      <td>2nd Ave &amp; Spring St</td>\n",
       "      <td>Occidental Park / Occidental Ave S &amp; S Washing...</td>\n",
       "      <td>CBD-06</td>\n",
       "      <td>PS-04</td>\n",
       "      <td>Member</td>\n",
       "      <td>Male</td>\n",
       "      <td>1970.0</td>\n",
       "    </tr>\n",
       "    <tr>\n",
       "      <td>2</td>\n",
       "      <td>433</td>\n",
       "      <td>10/13/2014 10:33</td>\n",
       "      <td>10/13/2014 10:48</td>\n",
       "      <td>SEA00486</td>\n",
       "      <td>883.831</td>\n",
       "      <td>2nd Ave &amp; Spring St</td>\n",
       "      <td>Occidental Park / Occidental Ave S &amp; S Washing...</td>\n",
       "      <td>CBD-06</td>\n",
       "      <td>PS-04</td>\n",
       "      <td>Member</td>\n",
       "      <td>Female</td>\n",
       "      <td>1988.0</td>\n",
       "    </tr>\n",
       "    <tr>\n",
       "      <td>3</td>\n",
       "      <td>434</td>\n",
       "      <td>10/13/2014 10:34</td>\n",
       "      <td>10/13/2014 10:48</td>\n",
       "      <td>SEA00333</td>\n",
       "      <td>865.937</td>\n",
       "      <td>2nd Ave &amp; Spring St</td>\n",
       "      <td>Occidental Park / Occidental Ave S &amp; S Washing...</td>\n",
       "      <td>CBD-06</td>\n",
       "      <td>PS-04</td>\n",
       "      <td>Member</td>\n",
       "      <td>Female</td>\n",
       "      <td>1977.0</td>\n",
       "    </tr>\n",
       "    <tr>\n",
       "      <td>4</td>\n",
       "      <td>435</td>\n",
       "      <td>10/13/2014 10:34</td>\n",
       "      <td>10/13/2014 10:49</td>\n",
       "      <td>SEA00202</td>\n",
       "      <td>923.923</td>\n",
       "      <td>2nd Ave &amp; Spring St</td>\n",
       "      <td>Occidental Park / Occidental Ave S &amp; S Washing...</td>\n",
       "      <td>CBD-06</td>\n",
       "      <td>PS-04</td>\n",
       "      <td>Member</td>\n",
       "      <td>Male</td>\n",
       "      <td>1971.0</td>\n",
       "    </tr>\n",
       "    <tr>\n",
       "      <td>...</td>\n",
       "      <td>...</td>\n",
       "      <td>...</td>\n",
       "      <td>...</td>\n",
       "      <td>...</td>\n",
       "      <td>...</td>\n",
       "      <td>...</td>\n",
       "      <td>...</td>\n",
       "      <td>...</td>\n",
       "      <td>...</td>\n",
       "      <td>...</td>\n",
       "      <td>...</td>\n",
       "      <td>...</td>\n",
       "    </tr>\n",
       "    <tr>\n",
       "      <td>286852</td>\n",
       "      <td>255241</td>\n",
       "      <td>8/31/2016 23:34</td>\n",
       "      <td>8/31/2016 23:45</td>\n",
       "      <td>SEA00201</td>\n",
       "      <td>679.532</td>\n",
       "      <td>Harvard Ave &amp; E Pine St</td>\n",
       "      <td>2nd Ave &amp; Spring St</td>\n",
       "      <td>CH-09</td>\n",
       "      <td>CBD-06</td>\n",
       "      <td>Short-Term Pass Holder</td>\n",
       "      <td>NaN</td>\n",
       "      <td>NaN</td>\n",
       "    </tr>\n",
       "    <tr>\n",
       "      <td>286853</td>\n",
       "      <td>255242</td>\n",
       "      <td>8/31/2016 23:48</td>\n",
       "      <td>9/1/2016 0:20</td>\n",
       "      <td>SEA00247</td>\n",
       "      <td>1965.418</td>\n",
       "      <td>Cal Anderson Park / 11th Ave &amp; Pine St</td>\n",
       "      <td>6th Ave S &amp; S King St</td>\n",
       "      <td>CH-08</td>\n",
       "      <td>ID-04</td>\n",
       "      <td>Short-Term Pass Holder</td>\n",
       "      <td>NaN</td>\n",
       "      <td>NaN</td>\n",
       "    </tr>\n",
       "    <tr>\n",
       "      <td>286854</td>\n",
       "      <td>255243</td>\n",
       "      <td>8/31/2016 23:47</td>\n",
       "      <td>9/1/2016 0:20</td>\n",
       "      <td>SEA00300</td>\n",
       "      <td>1951.173</td>\n",
       "      <td>Cal Anderson Park / 11th Ave &amp; Pine St</td>\n",
       "      <td>6th Ave S &amp; S King St</td>\n",
       "      <td>CH-08</td>\n",
       "      <td>ID-04</td>\n",
       "      <td>Short-Term Pass Holder</td>\n",
       "      <td>NaN</td>\n",
       "      <td>NaN</td>\n",
       "    </tr>\n",
       "    <tr>\n",
       "      <td>286855</td>\n",
       "      <td>255244</td>\n",
       "      <td>8/31/2016 23:49</td>\n",
       "      <td>9/1/2016 0:20</td>\n",
       "      <td>SEA00047</td>\n",
       "      <td>1883.299</td>\n",
       "      <td>Cal Anderson Park / 11th Ave &amp; Pine St</td>\n",
       "      <td>6th Ave S &amp; S King St</td>\n",
       "      <td>CH-08</td>\n",
       "      <td>ID-04</td>\n",
       "      <td>Short-Term Pass Holder</td>\n",
       "      <td>NaN</td>\n",
       "      <td>NaN</td>\n",
       "    </tr>\n",
       "    <tr>\n",
       "      <td>286856</td>\n",
       "      <td>255245</td>\n",
       "      <td>8/31/2016 23:49</td>\n",
       "      <td>9/1/2016 0:20</td>\n",
       "      <td>SEA00442</td>\n",
       "      <td>1896.031</td>\n",
       "      <td>Cal Anderson Park / 11th Ave &amp; Pine St</td>\n",
       "      <td>6th Ave S &amp; S King St</td>\n",
       "      <td>CH-08</td>\n",
       "      <td>ID-04</td>\n",
       "      <td>Short-Term Pass Holder</td>\n",
       "      <td>NaN</td>\n",
       "      <td>NaN</td>\n",
       "    </tr>\n",
       "  </tbody>\n",
       "</table>\n",
       "<p>286857 rows × 12 columns</p>\n",
       "</div>"
      ],
      "text/plain": [
       "        trip_id         starttime          stoptime    bikeid  tripduration  \\\n",
       "0           431  10/13/2014 10:31  10/13/2014 10:48  SEA00298       985.935   \n",
       "1           432  10/13/2014 10:32  10/13/2014 10:48  SEA00195       926.375   \n",
       "2           433  10/13/2014 10:33  10/13/2014 10:48  SEA00486       883.831   \n",
       "3           434  10/13/2014 10:34  10/13/2014 10:48  SEA00333       865.937   \n",
       "4           435  10/13/2014 10:34  10/13/2014 10:49  SEA00202       923.923   \n",
       "...         ...               ...               ...       ...           ...   \n",
       "286852   255241   8/31/2016 23:34   8/31/2016 23:45  SEA00201       679.532   \n",
       "286853   255242   8/31/2016 23:48     9/1/2016 0:20  SEA00247      1965.418   \n",
       "286854   255243   8/31/2016 23:47     9/1/2016 0:20  SEA00300      1951.173   \n",
       "286855   255244   8/31/2016 23:49     9/1/2016 0:20  SEA00047      1883.299   \n",
       "286856   255245   8/31/2016 23:49     9/1/2016 0:20  SEA00442      1896.031   \n",
       "\n",
       "                             from_station_name  \\\n",
       "0                          2nd Ave & Spring St   \n",
       "1                          2nd Ave & Spring St   \n",
       "2                          2nd Ave & Spring St   \n",
       "3                          2nd Ave & Spring St   \n",
       "4                          2nd Ave & Spring St   \n",
       "...                                        ...   \n",
       "286852                 Harvard Ave & E Pine St   \n",
       "286853  Cal Anderson Park / 11th Ave & Pine St   \n",
       "286854  Cal Anderson Park / 11th Ave & Pine St   \n",
       "286855  Cal Anderson Park / 11th Ave & Pine St   \n",
       "286856  Cal Anderson Park / 11th Ave & Pine St   \n",
       "\n",
       "                                          to_station_name from_station_id  \\\n",
       "0       Occidental Park / Occidental Ave S & S Washing...          CBD-06   \n",
       "1       Occidental Park / Occidental Ave S & S Washing...          CBD-06   \n",
       "2       Occidental Park / Occidental Ave S & S Washing...          CBD-06   \n",
       "3       Occidental Park / Occidental Ave S & S Washing...          CBD-06   \n",
       "4       Occidental Park / Occidental Ave S & S Washing...          CBD-06   \n",
       "...                                                   ...             ...   \n",
       "286852                                2nd Ave & Spring St           CH-09   \n",
       "286853                              6th Ave S & S King St           CH-08   \n",
       "286854                              6th Ave S & S King St           CH-08   \n",
       "286855                              6th Ave S & S King St           CH-08   \n",
       "286856                              6th Ave S & S King St           CH-08   \n",
       "\n",
       "       to_station_id                usertype  gender  birthyear  \n",
       "0              PS-04                  Member    Male     1960.0  \n",
       "1              PS-04                  Member    Male     1970.0  \n",
       "2              PS-04                  Member  Female     1988.0  \n",
       "3              PS-04                  Member  Female     1977.0  \n",
       "4              PS-04                  Member    Male     1971.0  \n",
       "...              ...                     ...     ...        ...  \n",
       "286852        CBD-06  Short-Term Pass Holder     NaN        NaN  \n",
       "286853         ID-04  Short-Term Pass Holder     NaN        NaN  \n",
       "286854         ID-04  Short-Term Pass Holder     NaN        NaN  \n",
       "286855         ID-04  Short-Term Pass Holder     NaN        NaN  \n",
       "286856         ID-04  Short-Term Pass Holder     NaN        NaN  \n",
       "\n",
       "[286857 rows x 12 columns]"
      ]
     },
     "execution_count": 5,
     "metadata": {},
     "output_type": "execute_result"
    }
   ],
   "source": [
    "trip_data = pd.read_csv('trip.csv', error_bad_lines=False)\n",
    "trip_data"
   ]
  },
  {
   "cell_type": "markdown",
   "metadata": {},
   "source": [
    "#### What is the average trip duration for a borrowed bicycle?"
   ]
  },
  {
   "cell_type": "code",
   "execution_count": 6,
   "metadata": {},
   "outputs": [
    {
     "data": {
      "text/plain": [
       "1178.2956753399776"
      ]
     },
     "execution_count": 6,
     "metadata": {},
     "output_type": "execute_result"
    }
   ],
   "source": [
    "trip_data.tripduration.mean()"
   ]
  },
  {
   "cell_type": "markdown",
   "metadata": {},
   "source": [
    "#### What’s the most common age of a bicycle-sharer?"
   ]
  },
  {
   "cell_type": "code",
   "execution_count": 7,
   "metadata": {},
   "outputs": [
    {
     "data": {
      "text/plain": [
       "0    32.0\n",
       "dtype: float64"
      ]
     },
     "execution_count": 7,
     "metadata": {},
     "output_type": "execute_result"
    }
   ],
   "source": [
    "age = (2019 - (trip_data.birthyear.mode()))\n",
    "age"
   ]
  },
  {
   "cell_type": "markdown",
   "metadata": {},
   "source": [
    "##### Answer: 32"
   ]
  },
  {
   "cell_type": "markdown",
   "metadata": {},
   "source": [
    "#### Given all the weather data here, find the average precipitation per month, and the median precipitation."
   ]
  },
  {
   "cell_type": "code",
   "execution_count": 20,
   "metadata": {},
   "outputs": [
    {
     "name": "stdout",
     "output_type": "stream",
     "text": [
      "          Date  Max_Temperature_F  Mean_Temperature_F  Min_TemperatureF  \\\n",
      "0   2014-10-13                 71                62.0                54   \n",
      "1   2014-10-14                 63                59.0                55   \n",
      "2   2014-10-15                 62                58.0                54   \n",
      "3   2014-10-16                 71                61.0                52   \n",
      "4   2014-10-17                 64                60.0                57   \n",
      "..         ...                ...                 ...               ...   \n",
      "684 2016-08-27                 72                66.0                61   \n",
      "685 2016-08-28                 75                68.0                59   \n",
      "686 2016-08-29                 81                68.0                55   \n",
      "687 2016-08-30                 70                64.0                57   \n",
      "688 2016-08-31                 71                65.0                59   \n",
      "\n",
      "     Max_Dew_Point_F  MeanDew_Point_F  Min_Dewpoint_F  Max_Humidity  \\\n",
      "0                 55               51              46            87   \n",
      "1                 52               51              50            88   \n",
      "2                 53               50              46            87   \n",
      "3                 49               46              42            83   \n",
      "4                 55               51              41            87   \n",
      "..               ...              ...             ...           ...   \n",
      "684               57               54              50            81   \n",
      "685               54               52              50            80   \n",
      "686               55               53              50            89   \n",
      "687               55               53              52            83   \n",
      "688               61               56              52            90   \n",
      "\n",
      "     Mean_Humidity  Min_Humidity  ...  Min_Sea_Level_Pressure_In  \\\n",
      "0               68            46  ...                      29.65   \n",
      "1               78            63  ...                      29.54   \n",
      "2               77            67  ...                      29.51   \n",
      "3               61            36  ...                      29.81   \n",
      "4               72            46  ...                      29.73   \n",
      "..             ...           ...  ...                        ...   \n",
      "684             65            46  ...                      29.77   \n",
      "685             65            44  ...                      30.01   \n",
      "686             65            39  ...                      29.95   \n",
      "687             69            53  ...                      29.97   \n",
      "688             77            63  ...                      29.96   \n",
      "\n",
      "     Max_Visibility_Miles  Mean_Visibility_Miles  Min_Visibility_Miles  \\\n",
      "0                      10                     10                     4   \n",
      "1                      10                      9                     3   \n",
      "2                      10                      9                     3   \n",
      "3                      10                     10                    10   \n",
      "4                      10                     10                     6   \n",
      "..                    ...                    ...                   ...   \n",
      "684                    10                     10                    10   \n",
      "685                    10                     10                    10   \n",
      "686                    10                     10                     6   \n",
      "687                    10                     10                    10   \n",
      "688                    10                     10                     8   \n",
      "\n",
      "     Max_Wind_Speed_MPH  Mean_Wind_Speed_MPH  Max_Gust_Speed_MPH  \\\n",
      "0                    13                    4                  21   \n",
      "1                    10                    5                  17   \n",
      "2                    18                    7                  25   \n",
      "3                     9                    4                   -   \n",
      "4                     8                    3                   -   \n",
      "..                  ...                  ...                 ...   \n",
      "684                  16                    9                 NaN   \n",
      "685                  12                    9                 NaN   \n",
      "686                   9                    4                 NaN   \n",
      "687                  14                    9                  18   \n",
      "688                  14                    8                 NaN   \n",
      "\n",
      "     Precipitation_In Events  Month  \n",
      "0                0.00   Rain     10  \n",
      "1                0.11   Rain     10  \n",
      "2                0.45   Rain     10  \n",
      "3                0.00   Rain     10  \n",
      "4                0.14   Rain     10  \n",
      "..                ...    ...    ...  \n",
      "684              0.00    NaN      8  \n",
      "685              0.00    NaN      8  \n",
      "686              0.00    NaN      8  \n",
      "687              0.00    NaN      8  \n",
      "688              0.00   Rain      8  \n",
      "\n",
      "[689 rows x 22 columns]\n"
     ]
    }
   ],
   "source": [
    "weather_data['Date'] = pd.to_datetime(weather_data['Date'], errors='coerce')\n",
    "print(weather_data)"
   ]
  },
  {
   "cell_type": "code",
   "execution_count": 9,
   "metadata": {},
   "outputs": [],
   "source": [
    "weather_data['Month'] = weather_data['Date'].dt.month"
   ]
  },
  {
   "cell_type": "code",
   "execution_count": 11,
   "metadata": {},
   "outputs": [
    {
     "data": {
      "text/html": [
       "<div>\n",
       "<style scoped>\n",
       "    .dataframe tbody tr th:only-of-type {\n",
       "        vertical-align: middle;\n",
       "    }\n",
       "\n",
       "    .dataframe tbody tr th {\n",
       "        vertical-align: top;\n",
       "    }\n",
       "\n",
       "    .dataframe thead th {\n",
       "        text-align: right;\n",
       "    }\n",
       "</style>\n",
       "<table border=\"1\" class=\"dataframe\">\n",
       "  <thead>\n",
       "    <tr style=\"text-align: right;\">\n",
       "      <th></th>\n",
       "      <th>Month</th>\n",
       "      <th>Precipitation_In</th>\n",
       "    </tr>\n",
       "    <tr>\n",
       "      <th>Month</th>\n",
       "      <th></th>\n",
       "      <th></th>\n",
       "    </tr>\n",
       "  </thead>\n",
       "  <tbody>\n",
       "    <tr>\n",
       "      <td>12</td>\n",
       "      <td>12</td>\n",
       "      <td>0.236290</td>\n",
       "    </tr>\n",
       "    <tr>\n",
       "      <td>10</td>\n",
       "      <td>10</td>\n",
       "      <td>0.189000</td>\n",
       "    </tr>\n",
       "    <tr>\n",
       "      <td>11</td>\n",
       "      <td>11</td>\n",
       "      <td>0.187833</td>\n",
       "    </tr>\n",
       "    <tr>\n",
       "      <td>2</td>\n",
       "      <td>2</td>\n",
       "      <td>0.168421</td>\n",
       "    </tr>\n",
       "    <tr>\n",
       "      <td>3</td>\n",
       "      <td>3</td>\n",
       "      <td>0.156935</td>\n",
       "    </tr>\n",
       "    <tr>\n",
       "      <td>1</td>\n",
       "      <td>1</td>\n",
       "      <td>0.143548</td>\n",
       "    </tr>\n",
       "    <tr>\n",
       "      <td>4</td>\n",
       "      <td>4</td>\n",
       "      <td>0.051333</td>\n",
       "    </tr>\n",
       "    <tr>\n",
       "      <td>9</td>\n",
       "      <td>9</td>\n",
       "      <td>0.041000</td>\n",
       "    </tr>\n",
       "    <tr>\n",
       "      <td>6</td>\n",
       "      <td>6</td>\n",
       "      <td>0.030500</td>\n",
       "    </tr>\n",
       "    <tr>\n",
       "      <td>8</td>\n",
       "      <td>8</td>\n",
       "      <td>0.018226</td>\n",
       "    </tr>\n",
       "    <tr>\n",
       "      <td>5</td>\n",
       "      <td>5</td>\n",
       "      <td>0.012419</td>\n",
       "    </tr>\n",
       "    <tr>\n",
       "      <td>7</td>\n",
       "      <td>7</td>\n",
       "      <td>0.012097</td>\n",
       "    </tr>\n",
       "  </tbody>\n",
       "</table>\n",
       "</div>"
      ],
      "text/plain": [
       "       Month  Precipitation_In\n",
       "Month                         \n",
       "12        12          0.236290\n",
       "10        10          0.189000\n",
       "11        11          0.187833\n",
       "2          2          0.168421\n",
       "3          3          0.156935\n",
       "1          1          0.143548\n",
       "4          4          0.051333\n",
       "9          9          0.041000\n",
       "6          6          0.030500\n",
       "8          8          0.018226\n",
       "5          5          0.012419\n",
       "7          7          0.012097"
      ]
     },
     "execution_count": 11,
     "metadata": {},
     "output_type": "execute_result"
    }
   ],
   "source": [
    "average_precip = pd.DataFrame(weather_data[['Month','Precipitation_In']]).groupby(weather_data.Month).mean()\n",
    "average_precip.sort_values('Precipitation_In', ascending=False)"
   ]
  },
  {
   "cell_type": "code",
   "execution_count": 12,
   "metadata": {},
   "outputs": [
    {
     "data": {
      "text/plain": [
       "0.1039669873608753"
      ]
     },
     "execution_count": 12,
     "metadata": {},
     "output_type": "execute_result"
    }
   ],
   "source": [
    "mean_precip = average_precip['Precipitation_In'].mean()\n",
    "mean_precip"
   ]
  },
  {
   "cell_type": "markdown",
   "metadata": {},
   "source": [
    "#### What’s the average number of bikes at a given bike station?\n"
   ]
  },
  {
   "cell_type": "code",
   "execution_count": 13,
   "metadata": {},
   "outputs": [
    {
     "data": {
      "text/plain": [
       "16.517241379310345"
      ]
     },
     "execution_count": 13,
     "metadata": {},
     "output_type": "execute_result"
    }
   ],
   "source": [
    "station_data['current_dockcount'].mean()"
   ]
  },
  {
   "cell_type": "markdown",
   "metadata": {},
   "source": [
    "##### Answer: About 16"
   ]
  },
  {
   "cell_type": "markdown",
   "metadata": {},
   "source": [
    "#### When a bike station is modified, is it more likely that it’ll lose bikes or gain bikes? How do you know?"
   ]
  },
  {
   "cell_type": "code",
   "execution_count": 15,
   "metadata": {},
   "outputs": [
    {
     "name": "stdout",
     "output_type": "stream",
     "text": [
      "A bike station is likely to gain bikes when modified.\n"
     ]
    }
   ],
   "source": [
    "bike_mod_stat = station_data['install_dockcount'] - station_data['current_dockcount']\n",
    "\n",
    "lose = 0\n",
    "gain = 0\n",
    "\n",
    "for val in bike_mod_stat:\n",
    "    if val < 0:\n",
    "        lose += 1\n",
    "    if val > 0:\n",
    "        gain += 1\n",
    "\n",
    "if gain > lose:\n",
    "    print('A bike station is likely to gain bikes when modified.')\n",
    "else:\n",
    "    print('a bike station is likely to lose bikes when modified')"
   ]
  },
  {
   "cell_type": "markdown",
   "metadata": {},
   "source": [
    "#### what is the most popular user type?"
   ]
  },
  {
   "cell_type": "code",
   "execution_count": 18,
   "metadata": {},
   "outputs": [
    {
     "name": "stdout",
     "output_type": "stream",
     "text": [
      "Members bike the most\n"
     ]
    }
   ],
   "source": [
    "member = trip_data[(trip_data['usertype'] == 'Member')]\n",
    "non_member = trip_data[(trip_data['usertype'] != 'Member')]\n",
    "if len(member) > len(non_member):\n",
    "    print('Members bike the most')\n",
    "else:\n",
    "    print('Non member use more bikes')"
   ]
  },
  {
   "cell_type": "markdown",
   "metadata": {},
   "source": [
    "#### Longest trip_duration?"
   ]
  },
  {
   "cell_type": "code",
   "execution_count": 19,
   "metadata": {},
   "outputs": [
    {
     "data": {
      "text/plain": [
       "28794.397999999997"
      ]
     },
     "execution_count": 19,
     "metadata": {},
     "output_type": "execute_result"
    }
   ],
   "source": [
    "trip_data.tripduration.max()"
   ]
  },
  {
   "cell_type": "markdown",
   "metadata": {},
   "source": [
    "#### Hottest temp?"
   ]
  },
  {
   "cell_type": "code",
   "execution_count": 21,
   "metadata": {},
   "outputs": [
    {
     "data": {
      "text/plain": [
       "98"
      ]
     },
     "execution_count": 21,
     "metadata": {},
     "output_type": "execute_result"
    }
   ],
   "source": [
    "weather_data.Max_Temperature_F.max()"
   ]
  }
 ],
 "metadata": {
  "kernelspec": {
   "display_name": "Python 3",
   "language": "python",
   "name": "python3"
  },
  "language_info": {
   "codemirror_mode": {
    "name": "ipython",
    "version": 3
   },
   "file_extension": ".py",
   "mimetype": "text/x-python",
   "name": "python",
   "nbconvert_exporter": "python",
   "pygments_lexer": "ipython3",
   "version": "3.7.3"
  }
 },
 "nbformat": 4,
 "nbformat_minor": 4
}
